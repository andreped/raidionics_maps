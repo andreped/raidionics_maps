{
 "cells": [
  {
   "cell_type": "code",
   "execution_count": null,
   "id": "14648f3e",
   "metadata": {},
   "outputs": [
    {
     "name": "stdout",
     "output_type": "stream",
     "text": [
      "Collecting raidionicsmaps@ git+https://github.com/raidionics/raidionics_maps.git@master#raidionicsmaps\n",
      "  Cloning https://github.com/raidionics/raidionics_maps.git (to revision master) to /home/dbouget/.tmp/pip-install-mi6xdb1c/raidionicsmaps_f8e2761264424693860a25a133ef64df\n",
      "  Running command git clone --filter=blob:none --quiet https://github.com/raidionics/raidionics_maps.git /home/dbouget/.tmp/pip-install-mi6xdb1c/raidionicsmaps_f8e2761264424693860a25a133ef64df\n",
      "Username for 'https://github.com': "
     ]
    }
   ],
   "source": [
    "pip install raidionicsmaps@git+https://github.com/raidionics/raidionics_maps.git@master#raidionicsmaps"
   ]
  },
  {
   "cell_type": "code",
   "execution_count": null,
   "id": "8f1078d5",
   "metadata": {},
   "outputs": [],
   "source": [
    "#Download the test data\n",
    "import os\n",
    "import requests\n",
    "import zipfile\n",
    "\n",
    "test_data_url = 'https://github.com/raidionics/Raidionics-models/releases/download/1.2.0/Samples-RaidionicsMaps-UnitTest2.zip'\n",
    "\n",
    "test_dir = os.path.join(os.getcwd(), 'unit_tests_results_dir')\n",
    "os.makedirs(test_dir, exist_ok=True)\n",
    "patient_dir = os.path.join(test_dir, 'cohorts')\n",
    "results_dir = os.path.join(test_dir, 'results')\n",
    "os.makedirs(patient_dir, exist_ok=True)\n",
    "os.makedirs(results_dir, exist_ok=True)\n",
    "\n",
    "archive_dl_dest = os.path.join(test_dir, 'test_data.zip')\n",
    "if not os.path.exists(archive_dl_dest):\n",
    "    headers = {}\n",
    "    response = requests.get(test_patient_url, headers=headers, stream=True)\n",
    "    response.raise_for_status()\n",
    "    if response.status_code == requests.codes.ok:\n",
    "        with open(archive_dl_dest, \"wb\") as f:\n",
    "            for chunk in response.iter_content(chunk_size=1048576):\n",
    "                f.write(chunk)\n",
    "    with zipfile.ZipFile(archive_dl_dest, 'r') as zip_ref:\n",
    "        zip_ref.extractall(patient_dir)\n",
    "\n",
    "assert(os.path.exists(os.path.join(patient_dir, 'Cohort-UnitTest1')))"
   ]
  },
  {
   "cell_type": "code",
   "execution_count": null,
   "id": "e7c272b6",
   "metadata": {},
   "outputs": [],
   "source": [
    "import configparser\n",
    "import os\n",
    "import warnings\n",
    "\n",
    "# Ignore all warnings\n",
    "warnings.filterwarnings(\"ignore\")\n",
    "\n",
    "test_dir = os.path.join(os.getcwd(), 'unit_tests_results_dir')\n",
    "\n",
    "test_config = configparser.ConfigParser()\n",
    "test_config.add_section('Default')\n",
    "test_config.set('Default', 'task', 'heatmap')\n",
    "test_config.set('Default', 'input_folder', os.path.join(test_dir, 'cohorts', 'Cohort-UnitTest1'))\n",
    "test_config.set('Default', 'output_folder', os.path.join(test_dir, 'results'))\n",
    "test_config.add_section('Maps')\n",
    "test_config.set('Maps', 'gt_files_suffix', 'label_tumor.nii.gz')\n",
    "test_config.set('Maps', 'use_registered_data', 'false')\n",
    "test_config_filename = os.path.join(test_dir, 'unit_test_config.ini')\n",
    "with open(test_config_filename, 'w') as outfile:\n",
    "    test_config.write(outfile)\n",
    "\n",
    "print(\"Running the heatmap generation unit test.\\n\")\n",
    "from raidionicsmaps.compute import compute\n",
    "compute(test_config_filename)"
   ]
  },
  {
   "cell_type": "code",
   "execution_count": null,
   "id": "d4057a4d",
   "metadata": {},
   "outputs": [],
   "source": [
    "# Inspecting the results\n",
    "import os\n",
    "import nibabel as nib\n",
    "import numpy as np\n",
    "import matplotlib\n",
    "import matplotlib.pyplot as plt\n",
    "\n",
    "logging.getLogger().setLevel(logging.WARNING)\n",
    "\n",
    "# Collecting the generated heatmap\n",
    "heatmap_perc_filename = os.path.join(results_dir, 'Heatmaps', 'heatmap_percentages.nii.gz')\n",
    "\n",
    "# Loading the generated heatmap\n",
    "heatmap_nib = nib.load(heatmap_perc_filename)\n",
    "heatmap = heatmap_nib.get_fdata()[:]\n",
    "\n",
    "\n",
    "# Plotting the heatmap for a single 2D slice\n",
    "colors = ['black','green','blue','red']\n",
    "cmap = matplotlib.colors.ListedColormap(colors)\n",
    "\n",
    "fig, ax = plt.subplots(1, 1, figsize=(20, 15))\n",
    "ax[0, 0].imshow(heatmap[:, :, 75], cmap=\"warm\")\n",
    "\n",
    "for i, title in enumerate([\"Heatmap\"]):\n",
    "  ax[int(i/1), i%1].set_title(title)\n",
    "plt.show()"
   ]
  }
 ],
 "metadata": {
  "kernelspec": {
   "display_name": "Python 3 (ipykernel)",
   "language": "python",
   "name": "python3"
  },
  "language_info": {
   "codemirror_mode": {
    "name": "ipython",
    "version": 3
   },
   "file_extension": ".py",
   "mimetype": "text/x-python",
   "name": "python",
   "nbconvert_exporter": "python",
   "pygments_lexer": "ipython3",
   "version": "3.7.5"
  }
 },
 "nbformat": 4,
 "nbformat_minor": 5
}
